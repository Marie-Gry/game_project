{
 "cells": [
  {
   "cell_type": "code",
   "execution_count": 29,
   "id": "7b8aadcf",
   "metadata": {},
   "outputs": [],
   "source": [
    "logo = '''\n",
    "                                                         ,--,              \n",
    "                    ,----..                           ,---.'|              \n",
    "           .---.   /   /   \\  ,-.----.       ,---,    |   | :       ,---,. \n",
    "          /. ./|  /   .     : \\    /  \\    .'  .' `\\  :   : |     ,'  .' | \n",
    "      .--'.  ' ; .   /   ;.  \\;   :    \\ ,---.'     \\ |   ' :   ,---.'   | \n",
    "     /__./ \\ : |.   ;   /  ` ;|   | .\\ : |   |  .`\\  |;   ; '   |   |   .' \n",
    " .--'.  '   \\' .;   |  ; \\ ; |.   : |: | :   : |  '  |'   | |__ :   :  |-, \n",
    "/___/ \\ |    ' '|   :  | ; | '|   |  \\ : |   ' '  ;  :|   | :.'|:   |  ;/| \n",
    ";   \\  \\;      :.   |  ' ' ' :|   : .  / '   | ;  .  |'   :    ;|   :   .' \n",
    " \\   ;  `      |'   ;  \\; /  |;   | |  \\ |   | :  |  '|   |  ./ |   |  |-, \n",
    "  .   \\    .\\  ; \\   \\  ',  / |   | ;\\  \\'   : | /  ; ;   : ;   '   :  ;/| \n",
    "   \\   \\   ' \\ |  ;   :    /  :   ' | \\.'|   | '` ,/  |   ,/    |   |    \\ \n",
    "    :   '  |--\"    \\   \\ .'   :   : :-'  ;   :  .'    '---'     |   :   .' \n",
    "     \\   \\ ;        `---`     |   |.'    |   ,.'                |   | ,'   \n",
    "      '---\"                   `---'      '---'                  `----'     \n",
    "                                                                           \n",
    "'''\n",
    "\n"
   ]
  },
  {
   "cell_type": "code",
   "execution_count": 30,
   "id": "442a9076",
   "metadata": {},
   "outputs": [],
   "source": [
    "word_list1 = [\"bug\", \"air\", \"the\", \"ham\", \"jam\", \"gym\", \"guy\", \"eat\", \"hot\", \"dry\", \"cat\", \"cut\", \"ice\",\n",
    "              \"add\", \"aim\", \"any\", \"bed\", \"bid\", \"now\", \"box\", \"cap\", \"bye\", \"car\", \"can\", \"oak\", \"off\",\n",
    "              \"pen\", \"pox\", \"red\", \"ram\", \"rim\", \"pay\", \"pad\", \"odd\", \"oak\", \"mum\", \"map\", \"mad\", \"max\",\n",
    "              \"mid\", \"low\", \"lay\", \"lie\", \"hog\", \"hat\", \"her\", \"bun\", \"gel\", \"get\", \"gas\", \"few\", \"fit\",\n",
    "              \"far\", \"fan\", \"ego\", \"egg\", \"dim\", \"dig\", \"die\", \"cot\", \"arc\"]\n",
    "\n",
    "word_list2 = [\"bake\", \"four\", \"zoom\", \"book\", \"good\", \"zero\", \"tree\", \"five\", \"nine\", \"cute\", \"cool\", \"rice\", \"nice\",\n",
    "              \"race\", \"face\", \"huge\", \"help\", \"list\", \"word\", \"free\", \"also\", \"some\", \"have\", \"what\", \"when\", \"busy\",\n",
    "              \"bass\", \"able\", \"back\", \"bold\", \"come\", \"pear\", \"rest\", \"file\", \"high\", \"code\", \"data\", \"when\", \"what\",\n",
    "              \"work\", \"game\", \"main\", \"lock\", \"open\", \"look\", \"host\", \"chat\", \"stop\", \"sing\", \"fool\", \"down\", \"July\",\n",
    "              \"date\", \"dare\", \"edit\", \"cell\", \"fish\", \"pass\", \"true\", \"call\", \"type\", \"from\", \"luck\"]\n",
    "\n",
    "word_list3 = [\"eager\", \"shelf\", \"sharp\", \"eight\", \"world\", \"peace\", \"peach\", \"apple\", \"smile\",\"could\", \"which\", \"about\", \"guess\", \"shell\", \"zebra\", \"paper\", \"happy\", \"laugh\", \"glass\",\"class\", \"chase\", \"close\", \"lower\", \"inbox\", \"apply\", \"watch\", \"local\", \"start\", \"lunch\", \"debug\",\"break\", \"dance\", \"black\", \"white\", \"brown\", \"green\", \"scale\", \"trust\", \"login\", \"input\", \"print\",\n",
    "              \"board\", \"blank\", \"float\", \"local\", \"break\", \"upper\", \"check\", \"blaze\", \"flash\", \"phone\", \"range\", \"alpha\", \"relay\", \"ready\", \"while\", \"error\"]"
   ]
  },
  {
   "cell_type": "code",
   "execution_count": 31,
   "id": "dcc2ec46",
   "metadata": {},
   "outputs": [],
   "source": [
    "from IPython.display import clear_output\n",
    "import random\n",
    "from colorama import Fore, Back, Style\n",
    "import string\n"
   ]
  },
  {
   "cell_type": "code",
   "execution_count": 32,
   "id": "f25c0219",
   "metadata": {},
   "outputs": [],
   "source": [
    "EASY_ATTEMPTS = 4\n",
    "MEDIUM_ATTEMPTS= 6\n",
    "HARD_ATTEMPTS = 8\n",
    "\n",
    "def pick_level():\n",
    "    attempts = 0\n",
    "    word_list = []\n",
    "    ask_again = True\n",
    "    while ask_again: \n",
    "        level= input(\"Pick a level from Easy, Medium and Hard: \").lower()\n",
    "        if level in [\"e\", \"m\", \"h\", \"easy\", \"medium\", \"hard\"]:\n",
    "            ask_again = False\n",
    "        \n",
    "        \n",
    "    if level in [\"e\", \"easy\"]:\n",
    "        word_list = word_list1\n",
    "        attempts = EASY_ATTEMPTS\n",
    "    elif level in [\"m\", \"medium\"]:\n",
    "        word_list= word_list2\n",
    "        attempts = MEDIUM_ATTEMPTS\n",
    "    else:\n",
    "        word_list= word_list3\n",
    "        attempts = HARD_ATTEMPTS\n",
    "        clear_output(wait=False)\n",
    "    print(f\"You got {attempts} attempts to guess the word!\")    \n",
    "    return (choose_word(word_list), attempts)"
   ]
  },
  {
   "cell_type": "code",
   "execution_count": 33,
   "id": "ab265f6c",
   "metadata": {},
   "outputs": [],
   "source": [
    "def choose_word(lst):\n",
    "    \"\"\"choose a word from the word_list\"\"\"\n",
    "    return list(random.choice(lst).upper())"
   ]
  },
  {
   "cell_type": "code",
   "execution_count": 34,
   "id": "9ff45b72",
   "metadata": {},
   "outputs": [],
   "source": [
    "def display_board(i):\n",
    "    return ([\"___\"] *i)"
   ]
  },
  {
   "cell_type": "code",
   "execution_count": 35,
   "id": "408965c2",
   "metadata": {},
   "outputs": [],
   "source": [
    "def display_alphabet(lst):\n",
    "    \"\"\"display the alphabet, update the alphabet list \"\"\"\n",
    "    return lst"
   ]
  },
  {
   "cell_type": "code",
   "execution_count": 36,
   "id": "4cd6c80f",
   "metadata": {},
   "outputs": [],
   "source": [
    "def players_guess():\n",
    "    \"\"\"ask the user to input a word\"\"\"\n",
    "    return list(input(f\"Guess a {len(chosen_word)} letter word: \").upper())"
   ]
  },
  {
   "cell_type": "code",
   "execution_count": 37,
   "id": "79364261",
   "metadata": {},
   "outputs": [],
   "source": [
    "def check_win(word, guess):\n",
    "    \"\"\" check if the user had already guessed the word, print user win if the guess is correct \"\"\"\n",
    "    if word == guess:\n",
    "        return True \n",
    "    \n",
    "    #else:\n",
    "    #    return False"
   ]
  },
  {
   "cell_type": "code",
   "execution_count": 38,
   "id": "4a5631ff",
   "metadata": {},
   "outputs": [],
   "source": [
    "def check_right_position(word, guess):\n",
    "    \"\"\" check if the letter position of the guess is the same the letter position as chosen_word, if yes, return a list of True or False\"\"\"\n",
    "    lst = []\n",
    "    for i in range(len(guess)):\n",
    "        if word[i] == guess[i]:\n",
    "            lst.append(True)\n",
    "        else:\n",
    "            lst.append(False)\n",
    "    return lst\n",
    "    "
   ]
  },
  {
   "cell_type": "code",
   "execution_count": 39,
   "id": "f6170e8e",
   "metadata": {},
   "outputs": [],
   "source": [
    "def check_in_word(word, guess):\n",
    "    \"\"\" check if the letter of the guess is in the chosen_word, if yes, return a list of True or False\"\"\"\n",
    "    lst = []\n",
    "    for i in range(len(guess)):\n",
    "        if guess[i] in word:\n",
    "            lst.append(True)\n",
    "        else:\n",
    "            lst.append(False)\n",
    "    return lst"
   ]
  },
  {
   "cell_type": "code",
   "execution_count": 40,
   "id": "d2b7d365",
   "metadata": {},
   "outputs": [],
   "source": [
    "def update_display(guess, fill_letter_to_blank):\n",
    "    \"\"\" throught the result from checks to update the display\"\"\"\n",
    "    for i in range(len(right_position_boolist)): \n",
    "        if letter_in_boolist[i] == True:\n",
    "            fill_letter_to_blank[i] = guess[i].lower()\n",
    "            \n",
    "            \n",
    "        if right_position_boolist[i] == True:\n",
    "            fill_letter_to_blank[i] = guess[i]\n",
    "            \n",
    "    return fill_letter_to_blank\n"
   ]
  },
  {
   "cell_type": "code",
   "execution_count": 41,
   "id": "1c0189f0",
   "metadata": {
    "scrolled": true
   },
   "outputs": [
    {
     "name": "stdout",
     "output_type": "stream",
     "text": [
      "\n",
      "The words you have tried:\u001b[34m['HJKLI', 'ROESD', 'JHGFD', 'ABNMI', 'FGRWQ', 'JKIUT', 'CRUST'] \n",
      "\n",
      "\u001b[0m\n",
      "Letters you haven't tried:\n",
      "\u001b[32m['Z', 'V', 'P', 'Y', 'X']\n",
      "\n",
      "\u001b[0m\n",
      "{1: ['___', '___', '___', '___', '___']}\n",
      "{2: ['r', '___', '___', 'S', '___']}\n",
      "{3: ['___', '___', '___', '___', '___']}\n",
      "{4: ['___', '___', '___', '___', '___']}\n",
      "{5: ['___', '___', 'r', '___', '___']}\n",
      "{6: ['___', '___', '___', 'u', 'T']}\n",
      "{7: ['___', 'R', 'U', 'S', 'T']}\n",
      "You have 1 attempts left.\n",
      "\n",
      "Guess a 5 letter word: trust\n",
      "The chosen word is ['T', 'R', 'U', 'S', 'T']\n",
      "Mar, you got it right!\n",
      "Do you want to play again? Yes or no? never\n",
      "Thanks for playing, Mar. Good bye.\n"
     ]
    }
   ],
   "source": [
    "\n",
    "name=input(\"What is your name? \").title()\n",
    "clear_output(wait=False)\n",
    "\n",
    "print(Fore.MAGENTA + Style.BRIGHT + logo)\n",
    "print(Style.RESET_ALL)\n",
    "\n",
    "print(f\"Welcome to Wordle, {name}!\\n\")\n",
    "print(\"The aim of this game is to guess a word.\")\n",
    "print(\"For level 'Easy' you have a 3 letter word and 4 tries.\")\n",
    "print(\"For level 'Medium' you have a 4 letter word and 6 tries.\")\n",
    "print(\"For level 'Hard' you have a 5 letter word and 8 tries.\")\n",
    "print(\"A correct letter shows in upper case.\")\n",
    "print(\"A correct letter in the wrong place shows in lower case.\")\n",
    "print(\"Incorrect letters do not show at all.\")\n",
    "print(\"Letters can be used more than once.\\n\")\n",
    "\n",
    "\n",
    "\n",
    "\n",
    "alphabet = set(string.ascii_uppercase)\n",
    "\n",
    "while True:\n",
    "    chosen_word, attempts = pick_level()\n",
    "    print(\"   \")\n",
    "    display_board(len(chosen_word))\n",
    "    print([\"___\"] *len(chosen_word))\n",
    "    print(\"   \")\n",
    "    \n",
    "    used_letters = set()\n",
    "    left_letters = set(alphabet)\n",
    "    used_word = []\n",
    "    run = 1\n",
    "    show_guess = []\n",
    "    while attempts > 0:\n",
    "        try1 = \"\"\n",
    "        \n",
    "        while not len(try1) == len(chosen_word):\n",
    "            try1 = players_guess()           \n",
    "\n",
    "        if check_win(chosen_word,try1):\n",
    "            print(f\"The chosen word is {chosen_word}\")\n",
    "            print(f\"{name}, you got it right!\")\n",
    "            break\n",
    "            \n",
    "        else:\n",
    "            used_word.append(''.join(try1))\n",
    "            right_position_boolist = check_right_position(chosen_word, try1)\n",
    "            letter_in_boolist = check_in_word(chosen_word, try1)\n",
    "            update_display(try1, display_board(len(chosen_word)))\n",
    "            used_letters.update(try1)\n",
    "            left_letters = list(set(alphabet) - used_letters)\n",
    "            clear_output(wait=False)\n",
    "            \n",
    "            print(\"\\nThe words you have tried:\" + Fore.BLUE + f\"{used_word} \\n\")\n",
    "            print(Style.RESET_ALL)\n",
    "            print(\"Letters you haven't tried:\\n\" + Fore.GREEN + f\"{(left_letters)}\\n\")\n",
    "            print(Style.RESET_ALL)\n",
    "            guess_dict = dict()\n",
    "            guess_dict[run] = update_display(try1, display_board(len(chosen_word)))\n",
    "            \n",
    "        show_guess.append(guess_dict)\n",
    "        for i in range(len(show_guess)):\n",
    "            print(show_guess[i])\n",
    "        \n",
    "        \n",
    "        run += 1    \n",
    "        attempts -= 1\n",
    "        print(f\"You have {attempts} attempts left.\\n\")\n",
    "        \n",
    "        if attempts==0:\n",
    "            print(f\"Game over. The word was {''.join(chosen_word)}\")\n",
    "            \n",
    "    play_again=input(\"Do you want to play again? Yes or no? \").lower()\n",
    "    \n",
    "    if play_again in [\"n\", \"no\", \"nope\", \"never\"]:\n",
    "        print(f\"Thanks for playing, {name}. Good bye.\")\n",
    "        break\n",
    "    elif play_again in [\"y\", \"yes\", \"hell yeah\"]:\n",
    "        clear_output(wait=True)\n",
    "        print(Fore.MAGENTA + Style.BRIGHT + logo)\n",
    "        print(Style.RESET_ALL)\n",
    "        \n",
    "    else:\n",
    "        print(f\"Sorry, we couldn't understand your answer so we will let you go. Good bye {name}\")\n",
    "        break"
   ]
  },
  {
   "cell_type": "code",
   "execution_count": null,
   "id": "9b23406a",
   "metadata": {},
   "outputs": [],
   "source": []
  }
 ],
 "metadata": {
  "kernelspec": {
   "display_name": "Python 3 (ipykernel)",
   "language": "python",
   "name": "python3"
  },
  "language_info": {
   "codemirror_mode": {
    "name": "ipython",
    "version": 3
   },
   "file_extension": ".py",
   "mimetype": "text/x-python",
   "name": "python",
   "nbconvert_exporter": "python",
   "pygments_lexer": "ipython3",
   "version": "3.9.12"
  }
 },
 "nbformat": 4,
 "nbformat_minor": 5
}
